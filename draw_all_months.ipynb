{
 "cells": [
  {
   "cell_type": "code",
   "execution_count": 5,
   "metadata": {},
   "outputs": [],
   "source": [
    "from __future__ import print_function\n",
    "import os\n",
    "import numpy as np\n",
    "import numpy.ma as ma\n",
    "import Ngl, Nio\n",
    "from datetime import date, timedelta"
   ]
  },
  {
   "cell_type": "code",
   "execution_count": 2,
   "metadata": {},
   "outputs": [
    {
     "name": "stdout",
     "output_type": "stream",
     "text": [
      "Nio file:\twave.nc\n",
      "   global attributes:\n",
      "      Conventions : CF-1.6\n",
      "      history : 2020-01-08 06:06:58 GMT by grib_to_netcdf-2.15.0: /opt/ecmwf/eccodes/bin/grib_to_netcdf -o /cache/data5/adaptor.mars.internal-1578463447.2794712-27712-20-86a99d9a-e07b-47d9-94fc-1242f5433169.nc /cache/tmp/86a99d9a-e07b-47d9-94fc-1242f5433169-adaptor.mars.internal-1578463447.2799587-27712-8-tmp.grib\n",
      "   dimensions:\n",
      "      longitude = 720\n",
      "      latitude = 361\n",
      "      time = 492\n",
      "   variables:\n",
      "      float longitude [ longitude ]\n",
      "         units :\tdegrees_east\n",
      "         long_name :\tlongitude\n",
      "      float latitude [ latitude ]\n",
      "         units :\tdegrees_north\n",
      "         long_name :\tlatitude\n",
      "      integer time [ time ]\n",
      "         units :\thours since 1900-01-01 00:00:00.0\n",
      "         long_name :\ttime\n",
      "         calendar :\tgregorian\n",
      "      short p0001 [ time, latitude, longitude ]\n",
      "         scale_factor :\t0.0001015624625834942\n",
      "         add_offset :\t3.361377192724578\n",
      "         _FillValue :\t-32767\n",
      "         missing_value :\t-32767\n",
      "         units :\tm\n",
      "         long_name :\tSignificant height of combined wind waves and swell\n",
      "      short p0005 [ time, latitude, longitude ]\n",
      "         scale_factor :\t7.801487537767232e-05\n",
      "         add_offset :\t2.594502873795765\n",
      "         _FillValue :\t-32767\n",
      "         missing_value :\t-32767\n",
      "         units :\tm\n",
      "         long_name :\tSignificant height of combined wind waves and swell\n",
      "\n"
     ]
    }
   ],
   "source": [
    "f = Nio.open_file(\"~/Documents/weathe_learn/NCL_draw/wave.nc\")\n",
    "print(f)"
   ]
  },
  {
   "cell_type": "code",
   "execution_count": 3,
   "metadata": {},
   "outputs": [],
   "source": [
    "lon = f.variables[\"longitude\"][:]\n",
    "lat = f.variables[\"latitude\"][:]\n",
    "w = f.variables[\"p0001\"][1,:,:].data*0.0001015624625834942 + 3.361377192724578"
   ]
  },
  {
   "cell_type": "code",
   "execution_count": 4,
   "metadata": {},
   "outputs": [],
   "source": [
    "# type(w)"
   ]
  },
  {
   "cell_type": "code",
   "execution_count": 5,
   "metadata": {},
   "outputs": [],
   "source": [
    "# w.view(ma.MaskedArray)"
   ]
  },
  {
   "cell_type": "code",
   "execution_count": null,
   "metadata": {},
   "outputs": [],
   "source": []
  },
  {
   "cell_type": "markdown",
   "metadata": {},
   "source": [
    "## Draw"
   ]
  },
  {
   "cell_type": "code",
   "execution_count": 6,
   "metadata": {},
   "outputs": [
    {
     "ename": "NameError",
     "evalue": "name 'lon' is not defined",
     "output_type": "error",
     "traceback": [
      "\u001b[0;31m---------------------------------------------------------------------------\u001b[0m",
      "\u001b[0;31mNameError\u001b[0m                                 Traceback (most recent call last)",
      "\u001b[0;32m<ipython-input-6-092a85741a51>\u001b[0m in \u001b[0;36m<module>\u001b[0;34m\u001b[0m\n\u001b[1;32m     22\u001b[0m \u001b[0;34m\u001b[0m\u001b[0m\n\u001b[1;32m     23\u001b[0m \u001b[0;31m# Scalar field resources\u001b[0m\u001b[0;34m\u001b[0m\u001b[0;34m\u001b[0m\u001b[0;34m\u001b[0m\u001b[0m\n\u001b[0;32m---> 24\u001b[0;31m \u001b[0mcnres\u001b[0m\u001b[0;34m.\u001b[0m\u001b[0msfXArray\u001b[0m        \u001b[0;34m=\u001b[0m \u001b[0mlon\u001b[0m\u001b[0;34m[\u001b[0m\u001b[0;34m:\u001b[0m\u001b[0;34m]\u001b[0m\u001b[0;34m\u001b[0m\u001b[0;34m\u001b[0m\u001b[0m\n\u001b[0m\u001b[1;32m     25\u001b[0m \u001b[0mcnres\u001b[0m\u001b[0;34m.\u001b[0m\u001b[0msfYArray\u001b[0m        \u001b[0;34m=\u001b[0m \u001b[0mlat\u001b[0m\u001b[0;34m[\u001b[0m\u001b[0;34m:\u001b[0m\u001b[0;34m]\u001b[0m\u001b[0;34m\u001b[0m\u001b[0;34m\u001b[0m\u001b[0m\n\u001b[1;32m     26\u001b[0m \u001b[0;34m\u001b[0m\u001b[0m\n",
      "\u001b[0;31mNameError\u001b[0m: name 'lon' is not defined"
     ]
    }
   ],
   "source": [
    "name = \"January\"\n",
    "wks_type = \"svg\"\n",
    "wks = Ngl.open_wks(wks_type, name)\n",
    "cnres = Ngl.Resources()\n",
    "\n",
    "# Contour resources\n",
    "cnres.cnFillOn        = True\n",
    "cnres.cnFillPalette   = \"WhiteBlueGreenYellowRed\"      # New in PyNGL 1.5.0\n",
    "cnres.cnLinesOn       = False\n",
    "cnres.cnLineLabelsOn  = False\n",
    "cnres.cnLevelSpacingF        = 0.5\n",
    "cnres.cnLevelSelectionMode = \"ManualLevels\"\n",
    "cnres.cnMinLevelValF         = 0.5\n",
    "cnres.cnMaxLevelValF         = 6.5\n",
    "\n",
    "# Labelbar resource\n",
    "cnres.lbOrientation   = \"horizontal\"\n",
    "cnres.lbLabelFontHeightF  = 0.010\n",
    "\n",
    "# title\n",
    "cnres.tiMainString    = name\n",
    "\n",
    "# Scalar field resources\n",
    "cnres.sfXArray        = lon[:]\n",
    "cnres.sfYArray        = lat[:]\n",
    "\n",
    "# Map resources\n",
    "cnres.mpFillOn               = True\n",
    "cnres.mpFillDrawOrder        = \"PostDraw\"\n",
    "cnres.mpLandFillColor        = -1\n",
    "cnres.mpOceanFillColor       = \"Transparent\"\n",
    "cnres.mpInlandWaterFillColor = \"Transparent\"\n",
    "\n",
    "contour = Ngl.contour_map(wks,w,cnres)\n",
    "\n",
    "Ngl.end()"
   ]
  },
  {
   "cell_type": "code",
   "execution_count": 4,
   "metadata": {},
   "outputs": [
    {
     "ename": "NameError",
     "evalue": "name 'Nio' is not defined",
     "output_type": "error",
     "traceback": [
      "\u001b[0;31m---------------------------------------------------------------------------\u001b[0m",
      "\u001b[0;31mNameError\u001b[0m                                 Traceback (most recent call last)",
      "\u001b[0;32m<ipython-input-4-f7f1b9c8b0e1>\u001b[0m in \u001b[0;36m<module>\u001b[0;34m\u001b[0m\n\u001b[0;32m----> 1\u001b[0;31m \u001b[0mf\u001b[0m \u001b[0;34m=\u001b[0m \u001b[0mNio\u001b[0m\u001b[0;34m.\u001b[0m\u001b[0mopen_file\u001b[0m\u001b[0;34m(\u001b[0m\u001b[0;34m\"~/Documents/weathe_learn/NCL_draw/wave.nc\"\u001b[0m\u001b[0;34m)\u001b[0m\u001b[0;34m\u001b[0m\u001b[0;34m\u001b[0m\u001b[0m\n\u001b[0m\u001b[1;32m      2\u001b[0m \u001b[0mtimes\u001b[0m \u001b[0;34m=\u001b[0m \u001b[0mf\u001b[0m\u001b[0;34m.\u001b[0m\u001b[0mvariables\u001b[0m\u001b[0;34m[\u001b[0m\u001b[0;34m\"time\"\u001b[0m\u001b[0;34m]\u001b[0m\u001b[0;34m[\u001b[0m\u001b[0;34m:\u001b[0m\u001b[0;34m]\u001b[0m\u001b[0;34m\u001b[0m\u001b[0;34m\u001b[0m\u001b[0m\n",
      "\u001b[0;31mNameError\u001b[0m: name 'Nio' is not defined"
     ]
    }
   ],
   "source": [
    "f = Nio.open_file(\"~/Documents/weathe_learn/NCL_draw/wave.nc\")\n",
    "times = f.variables[\"time\"][:]"
   ]
  },
  {
   "cell_type": "code",
   "execution_count": 8,
   "metadata": {},
   "outputs": [
    {
     "name": "stderr",
     "output_type": "stream",
     "text": [
      "<timed eval>:1: SyntaxWarning: 'int' object is not callable; perhaps you missed a comma?\n"
     ]
    },
    {
     "ename": "TypeError",
     "evalue": "'int' object is not callable",
     "output_type": "error",
     "traceback": [
      "\u001b[0;31m---------------------------------------------------------------------------\u001b[0m",
      "\u001b[0;31mTypeError\u001b[0m                                 Traceback (most recent call last)",
      "\u001b[0;32m<timed eval>\u001b[0m in \u001b[0;36m<module>\u001b[0;34m\u001b[0m\n",
      "\u001b[0;31mTypeError\u001b[0m: 'int' object is not callable"
     ]
    }
   ],
   "source": [
    "time/24"
   ]
  },
  {
   "cell_type": "code",
   "execution_count": 9,
   "metadata": {},
   "outputs": [
    {
     "ename": "NameError",
     "evalue": "name 'time' is not defined",
     "output_type": "error",
     "traceback": [
      "\u001b[0;31m---------------------------------------------------------------------------\u001b[0m",
      "\u001b[0;31mNameError\u001b[0m                                 Traceback (most recent call last)",
      "\u001b[0;32m<ipython-input-9-7ff76863b3a1>\u001b[0m in \u001b[0;36m<module>\u001b[0;34m\u001b[0m\n\u001b[1;32m      1\u001b[0m \u001b[0;32mfrom\u001b[0m \u001b[0mdatetime\u001b[0m \u001b[0;32mimport\u001b[0m \u001b[0mdate\u001b[0m\u001b[0;34m,\u001b[0m \u001b[0mtimedelta\u001b[0m\u001b[0;34m\u001b[0m\u001b[0;34m\u001b[0m\u001b[0m\n\u001b[1;32m      2\u001b[0m \u001b[0;34m\u001b[0m\u001b[0m\n\u001b[0;32m----> 3\u001b[0;31m \u001b[0mdays\u001b[0m \u001b[0;34m=\u001b[0m \u001b[0mtime\u001b[0m\u001b[0;34m[\u001b[0m\u001b[0;36m0\u001b[0m\u001b[0;34m]\u001b[0m\u001b[0;34m/\u001b[0m\u001b[0;36m24\u001b[0m              \u001b[0;31m# This may work for floats in general, but using integers\u001b[0m\u001b[0;34m\u001b[0m\u001b[0;34m\u001b[0m\u001b[0m\n\u001b[0m\u001b[1;32m      4\u001b[0m                             \u001b[0;31m#   is more precise (e.g. days = int(9465.0))\u001b[0m\u001b[0;34m\u001b[0m\u001b[0;34m\u001b[0m\u001b[0;34m\u001b[0m\u001b[0m\n\u001b[1;32m      5\u001b[0m \u001b[0;34m\u001b[0m\u001b[0m\n",
      "\u001b[0;31mNameError\u001b[0m: name 'time' is not defined"
     ]
    }
   ],
   "source": [
    "from datetime import date, timedelta\n",
    "\n",
    "days = time[0]/24              # This may work for floats in general, but using integers\n",
    "                            #   is more precise (e.g. days = int(9465.0))\n",
    "\n",
    "start = date(1900,1,1)      # This is the \"days since\" part\n",
    "\n",
    "delta = timedelta(days)     # Create a time delta object from the number of days\n",
    "\n",
    "offset = start + delta      # Add the specified number of days to 1990\n",
    "\n",
    "print(offset)               # >>>  2015-12-01\n",
    "print(type(offset)) "
   ]
  },
  {
   "cell_type": "code",
   "execution_count": null,
   "metadata": {},
   "outputs": [],
   "source": [
    "offset.isoformat()[:7]"
   ]
  },
  {
   "cell_type": "markdown",
   "metadata": {},
   "source": [
    "## Setup"
   ]
  },
  {
   "cell_type": "code",
   "execution_count": 7,
   "metadata": {},
   "outputs": [],
   "source": [
    "def draw_by_month(time, lat, lon, wave):\n",
    "    # time is int32\n",
    "    \n",
    "    # calculate file name\n",
    "    days = time/24 \n",
    "    start = date(1900,1,1)\n",
    "    delta = timedelta(days)\n",
    "    offset = start + delta\n",
    "    name = offset.isoformat()[:7]\n",
    "    \n",
    "    wks_type = \"svg\"\n",
    "    wks = Ngl.open_wks(wks_type, name)\n",
    "    cnres = Ngl.Resources()\n",
    "\n",
    "    # Contour resources\n",
    "    cnres.cnFillOn        = True\n",
    "    cnres.cnFillPalette   = \"WhiteBlueGreenYellowRed\"      # New in PyNGL 1.5.0\n",
    "    cnres.cnLinesOn       = False\n",
    "    cnres.cnLineLabelsOn  = False\n",
    "    cnres.cnLevelSpacingF        = 0.5\n",
    "    cnres.cnLevelSelectionMode = \"ManualLevels\"\n",
    "    cnres.cnMinLevelValF         = 0.5\n",
    "    cnres.cnMaxLevelValF         = 6.5\n",
    "\n",
    "    # Labelbar resource\n",
    "    cnres.lbOrientation   = \"horizontal\"\n",
    "    cnres.lbLabelFontHeightF  = 0.010\n",
    "\n",
    "    # title\n",
    "    cnres.tiMainString    = name\n",
    "\n",
    "    # Scalar field resources\n",
    "    cnres.sfXArray        = lon\n",
    "    cnres.sfYArray        = lat\n",
    "\n",
    "    # Map resources\n",
    "    cnres.mpFillOn               = True\n",
    "    cnres.mpFillDrawOrder        = \"PostDraw\"\n",
    "    cnres.mpLandFillColor        = -1\n",
    "    cnres.mpOceanFillColor       = \"Transparent\"\n",
    "    cnres.mpInlandWaterFillColor = \"Transparent\"\n",
    "\n",
    "    contour = Ngl.contour_map(wks,wave,cnres)\n",
    "    \n",
    "    Ngl.draw(plot)        # Drawing plot will draw attached text\n",
    "    Ngl.frame(wks)        # Advance frame\n",
    "\n",
    "    Ngl.end()"
   ]
  },
  {
   "cell_type": "code",
   "execution_count": 10,
   "metadata": {},
   "outputs": [],
   "source": [
    "f = Nio.open_file(\"~/Documents/weathe_learn/NCL_draw/wave.nc\")\n",
    "lon = f.variables[\"longitude\"][:]\n",
    "lat = f.variables[\"latitude\"][:]\n",
    "times = f.variables[\"time\"][:]\n",
    "#wave = f.variables[\"p0001\"][:]"
   ]
  },
  {
   "cell_type": "code",
   "execution_count": 11,
   "metadata": {},
   "outputs": [
    {
     "name": "stdout",
     "output_type": "stream",
     "text": [
      "[[0.03347998 0.03347998 0.03347998 ... 0.03347998 0.03347998 0.03347998]\n",
      " [0.03347998 0.03347998 0.03347998 ... 0.03347998 0.03347998 0.03347998]\n",
      " [0.03347998 0.03347998 0.03347998 ... 0.03347998 0.03347998 0.03347998]\n",
      " ...\n",
      " [0.03347998 0.03347998 0.03347998 ... 0.03347998 0.03347998 0.03347998]\n",
      " [0.03347998 0.03347998 0.03347998 ... 0.03347998 0.03347998 0.03347998]\n",
      " [0.03347998 0.03347998 0.03347998 ... 0.03347998 0.03347998 0.03347998]]\n"
     ]
    }
   ],
   "source": [
    "wave_to_draw = wave[1,:,:].data*0.0001015624625834942 + 3.361377192724578\n",
    "print(wave_to_draw)\n",
    "draw_by_month(1, lat, lon, wave_to_draw)"
   ]
  },
  {
   "cell_type": "code",
   "execution_count": 12,
   "metadata": {},
   "outputs": [
    {
     "data": {
      "text/plain": [
       "492"
      ]
     },
     "execution_count": 12,
     "metadata": {},
     "output_type": "execute_result"
    }
   ],
   "source": [
    "len(times)"
   ]
  },
  {
   "cell_type": "code",
   "execution_count": 15,
   "metadata": {},
   "outputs": [
    {
     "name": "stdout",
     "output_type": "stream",
     "text": [
      "692496\n",
      "0\n",
      "693240\n",
      "1\n",
      "693912\n",
      "2\n",
      "694656\n",
      "3\n",
      "695376\n",
      "4\n"
     ]
    }
   ],
   "source": [
    "wave_index = 0\n",
    "for time in times[0:5]:\n",
    "    print(time)\n",
    "    print(wave_index)\n",
    "    wave_to_draw  = f.variables[\"p0001\"][wave_index,:,:].data*0.0001015624625834942 + 3.361377192724578\n",
    "    draw_by_month(time, lat, lon, wave_to_draw)\n",
    "    wave_index = wave_index +1"
   ]
  },
  {
   "cell_type": "code",
   "execution_count": 3,
   "metadata": {},
   "outputs": [],
   "source": [
    "from netCDF4 import Dataset\n",
    "nc_obj=Dataset('./wave.nc')"
   ]
  },
  {
   "cell_type": "code",
   "execution_count": 6,
   "metadata": {},
   "outputs": [
    {
     "name": "stdout",
     "output_type": "stream",
     "text": [
      "<class 'netCDF4._netCDF4.Dataset'>\n",
      "root group (NETCDF3_64BIT_OFFSET data model, file format NETCDF3):\n",
      "    Conventions: CF-1.6\n",
      "    history: 2020-01-08 06:06:58 GMT by grib_to_netcdf-2.15.0: /opt/ecmwf/eccodes/bin/grib_to_netcdf -o /cache/data5/adaptor.mars.internal-1578463447.2794712-27712-20-86a99d9a-e07b-47d9-94fc-1242f5433169.nc /cache/tmp/86a99d9a-e07b-47d9-94fc-1242f5433169-adaptor.mars.internal-1578463447.2799587-27712-8-tmp.grib\n",
      "    dimensions(sizes): longitude(720), latitude(361), time(492)\n",
      "    variables(dimensions): float32 longitude(longitude), float32 latitude(latitude), int32 time(time), int16 p0001(time,latitude,longitude), int16 p0005(time,latitude,longitude)\n",
      "    groups: \n"
     ]
    }
   ],
   "source": [
    "print(nc_obj)"
   ]
  },
  {
   "cell_type": "code",
   "execution_count": 7,
   "metadata": {},
   "outputs": [
    {
     "name": "stdout",
     "output_type": "stream",
     "text": [
      "dict_keys(['longitude', 'latitude', 'time', 'p0001', 'p0005'])\n",
      "longitude\n",
      "latitude\n",
      "time\n",
      "p0001\n",
      "p0005\n"
     ]
    }
   ],
   "source": [
    "print(nc_obj.variables.keys())\n",
    "for i in nc_obj.variables.keys():\n",
    "    print(i)"
   ]
  },
  {
   "cell_type": "code",
   "execution_count": 10,
   "metadata": {},
   "outputs": [
    {
     "name": "stdout",
     "output_type": "stream",
     "text": [
      "<class 'netCDF4._netCDF4.Variable'>\n",
      "float32 longitude(longitude)\n",
      "    units: degrees_east\n",
      "    long_name: longitude\n",
      "unlimited dimensions: \n",
      "current shape = (720,)\n",
      "filling on, default _FillValue of 9.969209968386869e+36 used\n",
      "<class 'netCDF4._netCDF4.Variable'>\n",
      "float32 latitude(latitude)\n",
      "    units: degrees_north\n",
      "    long_name: latitude\n",
      "unlimited dimensions: \n",
      "current shape = (361,)\n",
      "filling on, default _FillValue of 9.969209968386869e+36 used\n",
      "<class 'netCDF4._netCDF4.Variable'>\n",
      "int32 time(time)\n",
      "    units: hours since 1900-01-01 00:00:00.0\n",
      "    long_name: time\n",
      "    calendar: gregorian\n",
      "unlimited dimensions: \n",
      "current shape = (492,)\n",
      "filling on, default _FillValue of -2147483647 used\n",
      "<class 'netCDF4._netCDF4.Variable'>\n",
      "int16 p0001(time, latitude, longitude)\n",
      "    scale_factor: 0.00010156246258349416\n",
      "    add_offset: 3.361377192724578\n",
      "    _FillValue: -32767\n",
      "    missing_value: -32767\n",
      "    units: m\n",
      "    long_name: Significant height of combined wind waves and swell\n",
      "unlimited dimensions: \n",
      "current shape = (492, 361, 720)\n",
      "filling on\n",
      "<class 'netCDF4._netCDF4.Variable'>\n",
      "int16 p0005(time, latitude, longitude)\n",
      "    scale_factor: 7.801487537767232e-05\n",
      "    add_offset: 2.594502873795765\n",
      "    _FillValue: -32767\n",
      "    missing_value: -32767\n",
      "    units: m\n",
      "    long_name: Significant height of combined wind waves and swell\n",
      "unlimited dimensions: \n",
      "current shape = (492, 361, 720)\n",
      "filling on\n"
     ]
    }
   ],
   "source": [
    "print(nc_obj.variables['longitude'])\n",
    "print(nc_obj.variables['latitude'])\n",
    "print(nc_obj.variables['time'])\n",
    "print(nc_obj.variables['p0001'])\n",
    "print(nc_obj.variables['p0005'])"
   ]
  },
  {
   "cell_type": "code",
   "execution_count": 11,
   "metadata": {},
   "outputs": [
    {
     "name": "stdout",
     "output_type": "stream",
     "text": [
      "['units', 'long_name']\n"
     ]
    }
   ],
   "source": [
    "print(nc_obj.variables['longitude'].ncattrs())"
   ]
  },
  {
   "cell_type": "code",
   "execution_count": 14,
   "metadata": {},
   "outputs": [],
   "source": [
    "wave=(nc_obj.variables['p0001'][:])"
   ]
  },
  {
   "cell_type": "code",
   "execution_count": 13,
   "metadata": {},
   "outputs": [
    {
     "data": {
      "text/plain": [
       "masked_array(\n",
       "  data=[[[--, --, --, ..., --, --, --],\n",
       "         [--, --, --, ..., --, --, --],\n",
       "         [--, --, --, ..., --, --, --],\n",
       "         ...,\n",
       "         [--, --, --, ..., --, --, --],\n",
       "         [--, --, --, ..., --, --, --],\n",
       "         [--, --, --, ..., --, --, --]],\n",
       "\n",
       "        [[--, --, --, ..., --, --, --],\n",
       "         [--, --, --, ..., --, --, --],\n",
       "         [--, --, --, ..., --, --, --],\n",
       "         ...,\n",
       "         [--, --, --, ..., --, --, --],\n",
       "         [--, --, --, ..., --, --, --],\n",
       "         [--, --, --, ..., --, --, --]],\n",
       "\n",
       "        [[--, --, --, ..., --, --, --],\n",
       "         [--, --, --, ..., --, --, --],\n",
       "         [--, --, --, ..., --, --, --],\n",
       "         ...,\n",
       "         [3.361377192724578, 3.361377192724578, 3.361377192724578, ...,\n",
       "          3.361377192724578, 3.361377192724578, 3.361377192724578],\n",
       "         [3.361377192724578, 3.361377192724578, 3.361377192724578, ...,\n",
       "          3.361377192724578, 3.361377192724578, 3.361377192724578],\n",
       "         [3.361377192724578, 3.361377192724578, 3.361377192724578, ...,\n",
       "          3.361377192724578, 3.361377192724578, 3.361377192724578]],\n",
       "\n",
       "        ...,\n",
       "\n",
       "        [[3.361377192724578, 3.361377192724578, 3.361377192724578, ...,\n",
       "          3.361377192724578, 3.361377192724578, 3.361377192724578],\n",
       "         [3.361377192724578, 3.361377192724578, 3.361377192724578, ...,\n",
       "          3.361377192724578, 3.361377192724578, 3.361377192724578],\n",
       "         [3.361377192724578, 3.361377192724578, 3.361377192724578, ...,\n",
       "          3.361377192724578, 3.361377192724578, 3.361377192724578],\n",
       "         ...,\n",
       "         [3.361377192724578, 3.361377192724578, 3.361377192724578, ...,\n",
       "          3.361377192724578, 3.361377192724578, 3.361377192724578],\n",
       "         [3.361377192724578, 3.361377192724578, 3.361377192724578, ...,\n",
       "          3.361377192724578, 3.361377192724578, 3.361377192724578],\n",
       "         [3.361377192724578, 3.361377192724578, 3.361377192724578, ...,\n",
       "          3.361377192724578, 3.361377192724578, 3.361377192724578]],\n",
       "\n",
       "        [[3.361377192724578, 3.361377192724578, 3.361377192724578, ...,\n",
       "          3.361377192724578, 3.361377192724578, 3.361377192724578],\n",
       "         [3.361377192724578, 3.361377192724578, 3.361377192724578, ...,\n",
       "          3.361377192724578, 3.361377192724578, 3.361377192724578],\n",
       "         [3.361377192724578, 3.361377192724578, 3.361377192724578, ...,\n",
       "          3.361377192724578, 3.361377192724578, 3.361377192724578],\n",
       "         ...,\n",
       "         [3.361377192724578, 3.361377192724578, 3.361377192724578, ...,\n",
       "          3.361377192724578, 3.361377192724578, 3.361377192724578],\n",
       "         [3.361377192724578, 3.361377192724578, 3.361377192724578, ...,\n",
       "          3.361377192724578, 3.361377192724578, 3.361377192724578],\n",
       "         [3.361377192724578, 3.361377192724578, 3.361377192724578, ...,\n",
       "          3.361377192724578, 3.361377192724578, 3.361377192724578]],\n",
       "\n",
       "        [[3.361377192724578, 3.361377192724578, 3.361377192724578, ...,\n",
       "          3.361377192724578, 3.361377192724578, 3.361377192724578],\n",
       "         [3.361377192724578, 3.361377192724578, 3.361377192724578, ...,\n",
       "          3.361377192724578, 3.361377192724578, 3.361377192724578],\n",
       "         [3.361377192724578, 3.361377192724578, 3.361377192724578, ...,\n",
       "          3.361377192724578, 3.361377192724578, 3.361377192724578],\n",
       "         ...,\n",
       "         [3.361377192724578, 3.361377192724578, 3.361377192724578, ...,\n",
       "          3.361377192724578, 3.361377192724578, 3.361377192724578],\n",
       "         [3.361377192724578, 3.361377192724578, 3.361377192724578, ...,\n",
       "          --, --, --],\n",
       "         [--, --, --, ..., --, --, --]]],\n",
       "  mask=[[[ True,  True,  True, ...,  True,  True,  True],\n",
       "         [ True,  True,  True, ...,  True,  True,  True],\n",
       "         [ True,  True,  True, ...,  True,  True,  True],\n",
       "         ...,\n",
       "         [ True,  True,  True, ...,  True,  True,  True],\n",
       "         [ True,  True,  True, ...,  True,  True,  True],\n",
       "         [ True,  True,  True, ...,  True,  True,  True]],\n",
       "\n",
       "        [[ True,  True,  True, ...,  True,  True,  True],\n",
       "         [ True,  True,  True, ...,  True,  True,  True],\n",
       "         [ True,  True,  True, ...,  True,  True,  True],\n",
       "         ...,\n",
       "         [ True,  True,  True, ...,  True,  True,  True],\n",
       "         [ True,  True,  True, ...,  True,  True,  True],\n",
       "         [ True,  True,  True, ...,  True,  True,  True]],\n",
       "\n",
       "        [[ True,  True,  True, ...,  True,  True,  True],\n",
       "         [ True,  True,  True, ...,  True,  True,  True],\n",
       "         [ True,  True,  True, ...,  True,  True,  True],\n",
       "         ...,\n",
       "         [False, False, False, ..., False, False, False],\n",
       "         [False, False, False, ..., False, False, False],\n",
       "         [False, False, False, ..., False, False, False]],\n",
       "\n",
       "        ...,\n",
       "\n",
       "        [[False, False, False, ..., False, False, False],\n",
       "         [False, False, False, ..., False, False, False],\n",
       "         [False, False, False, ..., False, False, False],\n",
       "         ...,\n",
       "         [False, False, False, ..., False, False, False],\n",
       "         [False, False, False, ..., False, False, False],\n",
       "         [False, False, False, ..., False, False, False]],\n",
       "\n",
       "        [[False, False, False, ..., False, False, False],\n",
       "         [False, False, False, ..., False, False, False],\n",
       "         [False, False, False, ..., False, False, False],\n",
       "         ...,\n",
       "         [False, False, False, ..., False, False, False],\n",
       "         [False, False, False, ..., False, False, False],\n",
       "         [False, False, False, ..., False, False, False]],\n",
       "\n",
       "        [[False, False, False, ..., False, False, False],\n",
       "         [False, False, False, ..., False, False, False],\n",
       "         [False, False, False, ..., False, False, False],\n",
       "         ...,\n",
       "         [False, False, False, ..., False, False, False],\n",
       "         [False, False, False, ...,  True,  True,  True],\n",
       "         [ True,  True,  True, ...,  True,  True,  True]]],\n",
       "  fill_value=-32767)"
      ]
     },
     "execution_count": 13,
     "metadata": {},
     "output_type": "execute_result"
    }
   ],
   "source": []
  },
  {
   "cell_type": "code",
   "execution_count": null,
   "metadata": {},
   "outputs": [],
   "source": []
  }
 ],
 "metadata": {
  "kernelspec": {
   "display_name": "PyNgl PyNio",
   "language": "python",
   "name": "pyn_env"
  },
  "language_info": {
   "codemirror_mode": {
    "name": "ipython",
    "version": 3
   },
   "file_extension": ".py",
   "mimetype": "text/x-python",
   "name": "python",
   "nbconvert_exporter": "python",
   "pygments_lexer": "ipython3",
   "version": "3.8.1"
  }
 },
 "nbformat": 4,
 "nbformat_minor": 4
}
