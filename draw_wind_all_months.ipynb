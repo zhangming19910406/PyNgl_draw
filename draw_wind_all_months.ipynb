{
 "cells": [
  {
   "cell_type": "code",
   "execution_count": 49,
   "metadata": {},
   "outputs": [],
   "source": [
    "from __future__ import print_function\n",
    "import os\n",
    "import numpy as np\n",
    "import numpy.ma as ma\n",
    "import Ngl, Nio\n",
    "from datetime import date, timedelta"
   ]
  },
  {
   "cell_type": "code",
   "execution_count": 50,
   "metadata": {},
   "outputs": [],
   "source": [
    "from netCDF4 import Dataset\n",
    "nc_obj = Dataset('./wind.nc')"
   ]
  },
  {
   "cell_type": "code",
   "execution_count": 51,
   "metadata": {},
   "outputs": [
    {
     "name": "stdout",
     "output_type": "stream",
     "text": [
      "<class 'netCDF4._netCDF4.Dataset'>\n",
      "root group (NETCDF3_64BIT_OFFSET data model, file format NETCDF3):\n",
      "    Conventions: CF-1.6\n",
      "    history: 2020-01-17 05:52:24 GMT by grib_to_netcdf-2.15.0: /opt/ecmwf/eccodes/bin/grib_to_netcdf -o /cache/data3/adaptor.mars.internal-1579240230.411107-12784-7-6f0a8c7f-ccba-4a4f-a279-6e4653b116d1.nc /cache/tmp/6f0a8c7f-ccba-4a4f-a279-6e4653b116d1-adaptor.mars.internal-1579240230.4115527-12784-4-tmp.grib\n",
      "    dimensions(sizes): longitude(720), latitude(361), number(10), time(132)\n",
      "    variables(dimensions): float32 longitude(longitude), float32 latitude(latitude), int32 number(number), int32 time(time), int16 u10_0001(time,number,latitude,longitude), int16 v10_0001(time,number,latitude,longitude), int16 u10_0005(time,number,latitude,longitude), int16 v10_0005(time,number,latitude,longitude)\n",
      "    groups: \n",
      "dict_keys(['longitude', 'latitude', 'number', 'time', 'u10_0001', 'v10_0001', 'u10_0005', 'v10_0005'])\n",
      "longitude\n",
      "latitude\n",
      "number\n",
      "time\n",
      "u10_0001\n",
      "v10_0001\n",
      "u10_0005\n",
      "v10_0005\n"
     ]
    }
   ],
   "source": [
    "print(nc_obj)\n",
    "print(nc_obj.variables.keys())\n",
    "for i in nc_obj.variables.keys():\n",
    "    print(i)"
   ]
  },
  {
   "cell_type": "code",
   "execution_count": 52,
   "metadata": {},
   "outputs": [],
   "source": [
    "u10_0001 = nc_obj.variables['u10_0001'][:]\n",
    "v10_0001 = nc_obj.variables['v10_0001'][:]\n",
    "longitude = nc_obj.variables['longitude'][:]\n",
    "latitude = nc_obj.variables['latitude'][:]\n",
    "times = nc_obj.variables['time'][:]"
   ]
  },
  {
   "cell_type": "markdown",
   "metadata": {},
   "source": [
    "## Draw a picutre"
   ]
  },
  {
   "cell_type": "code",
   "execution_count": 53,
   "metadata": {},
   "outputs": [],
   "source": [
    "index = 0"
   ]
  },
  {
   "cell_type": "code",
   "execution_count": 54,
   "metadata": {},
   "outputs": [],
   "source": [
    "u10_to_draw = np.mean(u10_0001[index, :, :, :], axis=0)\n",
    "v10_to_draw = np.mean(v10_0001[index, :, :, :], axis=0)\n",
    "time_to_draw = times[index]"
   ]
  },
  {
   "cell_type": "code",
   "execution_count": 55,
   "metadata": {},
   "outputs": [],
   "source": [
    "def draw_wind_by_month(time, lat, lon, u, v):\n",
    "    # time is int32\n",
    "    \n",
    "    # calculate file name\n",
    "    days = time/24 \n",
    "    start = date(1900,1,1)\n",
    "    delta = timedelta(days)\n",
    "    offset = start + delta\n",
    "    months = offset.isoformat()[:7]\n",
    "    path = \"./wind/wind10_\" + months\n",
    "    title_name = months\n",
    "    \n",
    "    wind_speed = np.sqrt(u**2 + v**2)\n",
    "    \n",
    "    wks_type = \"svg\"\n",
    "    wks = Ngl.open_wks(wks_type, path)\n",
    "\n",
    "    cnres                             = Ngl.Resources()\n",
    "    cnres.nglDraw                     = False\n",
    "    cnres.nglFrame                    = False\n",
    "\n",
    "#     cmap = Ngl.read_colormap_file(\"WhiteBlueGreenYellowRed\")\n",
    "\n",
    "    cnres.cnLinesOn                   = False\n",
    "    cnres.cnLineLabelsOn              = False\n",
    "    cnres.cnFillOn                    = True\n",
    "#     cnres.cnFillPalette               = cmap[15:,:]\n",
    "    cnres.cnFillPalette   = \"WhiteBlueGreenYellowRed\"\n",
    "    cnres.cnLevelSelectionMode = \"ManualLevels\"\n",
    "    cnres.cnMinLevelValF         = 3\n",
    "    cnres.cnMaxLevelValF         = 16\n",
    "    cnres.cnLevelSpacingF        = 1\n",
    "     \n",
    "    cnres.lbOrientation               = \"horizontal\"\n",
    "\n",
    "    cnres.mpFillOn                    = False\n",
    "    cnres.mpGeophysicalLineColor      = \"Grey18\"\n",
    "    cnres.mpGeophysicalLineThicknessF = 1.5\n",
    "\n",
    "    cnres.sfXArray                    = lon\n",
    "    cnres.sfYArray                    = lat\n",
    "\n",
    "    vcres                         = Ngl.Resources()\n",
    "    vcres.nglDraw                 = False\n",
    "    vcres.nglFrame                = False\n",
    "\n",
    "    vcres.vfXArray                = lon\n",
    "    vcres.vfYArray                = lat\n",
    "\n",
    "    vcres.vcFillArrowsOn          = True\n",
    "    vcres.vcRefMagnitudeF         = 30.0             # define vector ref mag\n",
    "    vcres.vcRefLengthF            = 0.02             # define length of vec ref\n",
    "    vcres.vcMinFracLengthF        = 0.3\n",
    "    vcres.vcMinDistanceF          = 0.02\n",
    "    vcres.vcRefAnnoOrthogonalPosF = -0.20\n",
    "    vcres.vcRefAnnoFontHeightF    = 0.005\n",
    "\n",
    "    cnres.tiMainString    = title_name\n",
    "\n",
    "    #---Draw fully opaque vectors\n",
    "    uv_plot  = Ngl.vector(wks, u, v, vcres)\n",
    "    spd_plot = Ngl.contour_map(wks, wind_speed, cnres)\n",
    "    Ngl.overlay(spd_plot,uv_plot)\n",
    "    Ngl.maximize_plot(wks, spd_plot)\n",
    "    Ngl.draw(spd_plot)\n",
    "    Ngl.frame(wks)\n",
    "\n",
    "    #---This time make vectors partially transparent\n",
    "#     vcres.vcGlyphOpacityF = 0.3\n",
    "#     cnres.tiMainString    = title_name\n",
    "\n",
    "#     uv_plot  = Ngl.vector(wks, u, v,  vcres)\n",
    "#     spd_plot = Ngl.contour_map(wks, wind_speed, cnres)\n",
    "\n",
    "#     Ngl.overlay(spd_plot,uv_plot)\n",
    "#     Ngl.maximize_plot(wks, spd_plot)\n",
    "#     Ngl.draw(spd_plot)\n",
    "#     Ngl.frame(wks)\n",
    "\n",
    "    Ngl.delete_wks(wks)"
   ]
  },
  {
   "cell_type": "code",
   "execution_count": 56,
   "metadata": {},
   "outputs": [],
   "source": [
    "# draw_wind_by_month(time_to_draw, latitude, longitude, u10_to_draw, v10_to_draw)"
   ]
  },
  {
   "cell_type": "markdown",
   "metadata": {},
   "source": [
    "## Draw all months"
   ]
  },
  {
   "cell_type": "code",
   "execution_count": 57,
   "metadata": {},
   "outputs": [],
   "source": [
    "index = 0\n",
    "for time in times:\n",
    "    time_to_draw = time\n",
    "    u10_to_draw = np.mean(u10_0001[index, :, :, :], axis=0)\n",
    "    v10_to_draw = np.mean(v10_0001[index, :, :, :], axis=0)\n",
    "    draw_wind_by_month(time_to_draw, latitude, longitude, u10_to_draw, v10_to_draw)\n",
    "    index = index +1"
   ]
  }
 ],
 "metadata": {
  "kernelspec": {
   "display_name": "PyNgl PyNio",
   "language": "python",
   "name": "pyn_env"
  },
  "language_info": {
   "codemirror_mode": {
    "name": "ipython",
    "version": 3
   },
   "file_extension": ".py",
   "mimetype": "text/x-python",
   "name": "python",
   "nbconvert_exporter": "python",
   "pygments_lexer": "ipython3",
   "version": "3.8.1"
  }
 },
 "nbformat": 4,
 "nbformat_minor": 4
}
