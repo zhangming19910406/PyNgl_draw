{
 "cells": [
  {
   "cell_type": "code",
   "execution_count": 1,
   "metadata": {},
   "outputs": [],
   "source": [
    "from __future__ import print_function\n",
    "import os, numpy\n",
    "import Ngl, Nio"
   ]
  },
  {
   "cell_type": "code",
   "execution_count": 2,
   "metadata": {},
   "outputs": [],
   "source": [
    "f = Nio.open_file(\"~/Documents/weathe_learn/NCL_draw/wave.nc\")"
   ]
  },
  {
   "cell_type": "code",
   "execution_count": 3,
   "metadata": {},
   "outputs": [
    {
     "name": "stdout",
     "output_type": "stream",
     "text": [
      "Nio file:\twave.nc\n",
      "   global attributes:\n",
      "      Conventions : CF-1.6\n",
      "      history : 2020-01-08 06:06:58 GMT by grib_to_netcdf-2.15.0: /opt/ecmwf/eccodes/bin/grib_to_netcdf -o /cache/data5/adaptor.mars.internal-1578463447.2794712-27712-20-86a99d9a-e07b-47d9-94fc-1242f5433169.nc /cache/tmp/86a99d9a-e07b-47d9-94fc-1242f5433169-adaptor.mars.internal-1578463447.2799587-27712-8-tmp.grib\n",
      "   dimensions:\n",
      "      longitude = 720\n",
      "      latitude = 361\n",
      "      time = 492\n",
      "   variables:\n",
      "      float longitude [ longitude ]\n",
      "         units :\tdegrees_east\n",
      "         long_name :\tlongitude\n",
      "      float latitude [ latitude ]\n",
      "         units :\tdegrees_north\n",
      "         long_name :\tlatitude\n",
      "      integer time [ time ]\n",
      "         units :\thours since 1900-01-01 00:00:00.0\n",
      "         long_name :\ttime\n",
      "         calendar :\tgregorian\n",
      "      short p0001 [ time, latitude, longitude ]\n",
      "         scale_factor :\t0.0001015624625834942\n",
      "         add_offset :\t3.361377192724578\n",
      "         _FillValue :\t-32767\n",
      "         missing_value :\t-32767\n",
      "         units :\tm\n",
      "         long_name :\tSignificant height of combined wind waves and swell\n",
      "      short p0005 [ time, latitude, longitude ]\n",
      "         scale_factor :\t7.801487537767232e-05\n",
      "         add_offset :\t2.594502873795765\n",
      "         _FillValue :\t-32767\n",
      "         missing_value :\t-32767\n",
      "         units :\tm\n",
      "         long_name :\tSignificant height of combined wind waves and swell\n",
      "\n"
     ]
    }
   ],
   "source": [
    "print(f)"
   ]
  },
  {
   "cell_type": "code",
   "execution_count": 4,
   "metadata": {},
   "outputs": [],
   "source": [
    "lon = f.variables[\"longitude\"]\n",
    "lat = f.variables[\"latitude\"]\n",
    "wave = f.variables[\"p0001\"][0, :, :].data*0.0001015624625834942 + 3.361377192724578\n",
    "#print(wave[90, 100:150, :].data)"
   ]
  },
  {
   "cell_type": "code",
   "execution_count": 5,
   "metadata": {},
   "outputs": [],
   "source": [
    "name = \"January\"\n",
    "wks_type = \"svg\"\n",
    "wks = Ngl.open_wks(wks_type, name)"
   ]
  },
  {
   "cell_type": "code",
   "execution_count": 6,
   "metadata": {},
   "outputs": [],
   "source": [
    "cnres = Ngl.Resources()"
   ]
  },
  {
   "cell_type": "code",
   "execution_count": 7,
   "metadata": {},
   "outputs": [],
   "source": [
    "# Contour resources\n",
    "cnres.cnLinesOn       = False\n",
    "cnres.cnLineLabelsOn  = False\n",
    "# \n",
    "# cnres.cnMinLevelValF         = 0\n",
    "# cnres.cnMaxLevelValF         = 6\n",
    "# cnres.cnLevelSpacingF        = 0.5\n",
    "cnres.cnFillOn = True\n",
    "cnres.cnFillPalette = \"WhiteBlueGreenYellowRed\"\n",
    "\n",
    "# Scalar field resources\n",
    "cnres.sfXArray        = lon[:]\n",
    "cnres.sfYArray        = lat[:]\n",
    "\n",
    "cnres.mpGeophysicalLineColor      = \"Grey10\"\n",
    "cnres.mpGeophysicalLineThicknessF = 1.0\n",
    "cnres.mpFillDrawOrder        = \"PostDraw\"\n",
    "# cnres.mpLandFillColor        = \"Gray\"\n",
    "cnres.mpOceanFillColor       = \"Transparent\"\n",
    "cnres.mpInlandWaterFillColor = \"Transparent\"\n",
    "\n",
    "cnres.lbLabelFontHeightF  = 0.010\n",
    "cnres.lbLabelBarOn          = True  # Turn on labelbar\n",
    "cnres.lbOrientation   = \"horizontal\"\n",
    "\n",
    "\n",
    "# if hasattr(lon,\"long_name\"):\n",
    "#     cnres.tiXAxisString = lon.long_name\n",
    "# if hasattr(lat,\"long_name\"):\n",
    "#     cnres.tiYAxisString = lat.long_name\n",
    "cnres.tiMainString    = name\n",
    "contour = Ngl.contour_map(wks,wave,cnres)\n",
    "Ngl.end()"
   ]
  },
  {
   "cell_type": "code",
   "execution_count": 8,
   "metadata": {},
   "outputs": [
    {
     "data": {
      "text/plain": [
       "Nio.NioVariable"
      ]
     },
     "execution_count": 8,
     "metadata": {},
     "output_type": "execute_result"
    }
   ],
   "source": [
    "type(lon)"
   ]
  },
  {
   "cell_type": "code",
   "execution_count": null,
   "metadata": {},
   "outputs": [],
   "source": []
  }
 ],
 "metadata": {
  "kernelspec": {
   "display_name": "PyNgl PyNio",
   "language": "python",
   "name": "pyn_env"
  },
  "language_info": {
   "codemirror_mode": {
    "name": "ipython",
    "version": 3
   },
   "file_extension": ".py",
   "mimetype": "text/x-python",
   "name": "python",
   "nbconvert_exporter": "python",
   "pygments_lexer": "ipython3",
   "version": "3.8.1"
  }
 },
 "nbformat": 4,
 "nbformat_minor": 4
}
