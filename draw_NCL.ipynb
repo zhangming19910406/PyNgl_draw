{
 "cells": [
  {
   "cell_type": "code",
   "execution_count": 1,
   "metadata": {},
   "outputs": [],
   "source": [
    ";-- comment line"
   ]
  },
  {
   "cell_type": "code",
   "execution_count": 10,
   "metadata": {},
   "outputs": [
    {
     "name": "stdout",
     "output_type": "stream",
     "text": [
      "sh: ncdump: command not found"
     ]
    }
   ],
   "source": [
    "filename = \"~/Documents/weathe_learn/NCL_draw/wave.nc\"\n",
    ";system(\"ncdump -h \"+filename)"
   ]
  },
  {
   "cell_type": "code",
   "execution_count": 9,
   "metadata": {},
   "outputs": [
    {
     "name": "stdout",
     "output_type": "stream",
     "text": [
      "Variable: f\n",
      "Type: file\n",
      "File path:\t/Users/zhangming/Documents/weathe_learn/NCL_draw/wave.nc\n",
      "Number of global attributes:\t 2\n",
      "Number of dimensions:\t 3\n",
      "Number of variables:\t 5"
     ]
    }
   ],
   "source": [
    "f = addfile(filename,\"r\")\n",
    "printVarSummary(f)"
   ]
  },
  {
   "cell_type": "code",
   "execution_count": 14,
   "metadata": {},
   "outputs": [
    {
     "name": "stdout",
     "output_type": "stream",
     "text": [
      "fatal:Dimension sizes of left hand side and right hand side of assignment do not match\n",
      "fatal:[\"Execute.c\":8635]:Execute: Error occurred at or near line 24Variable: t\n",
      "Type: float\n",
      "Total Size: 2880 bytes\n",
      "            720 values\n",
      "Number of Dimensions: 1\n",
      "Dimensions and sizes:\t[longitude | 720]\n",
      "Coordinates: \n",
      "            longitude: [ 0..359.5]\n",
      "Number Of Attributes: 2\n",
      "  long_name :\tlongitude\n",
      "  units :\tdegrees_east"
     ]
    }
   ],
   "source": [
    "t = f->time\n",
    "printVarSummary(t)"
   ]
  },
  {
   "cell_type": "code",
   "execution_count": null,
   "metadata": {},
   "outputs": [],
   "source": []
  }
 ],
 "metadata": {
  "kernelspec": {
   "display_name": "NCL",
   "language": "ncl",
   "name": "ncl_kernel"
  },
  "language_info": {
   "file_extension": ".ncl",
   "mimetype": "text/plain",
   "name": "ncl"
  }
 },
 "nbformat": 4,
 "nbformat_minor": 4
}
